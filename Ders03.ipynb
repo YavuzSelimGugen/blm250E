{
 "cells": [
  {
   "cell_type": "code",
   "execution_count": 8,
   "metadata": {},
   "outputs": [
    {
     "name": "stdout",
     "output_type": "stream",
     "text": [
      "21\n",
      "From stephen.marquard@uct.ac.za Sat Jan  5 09:14:16 2008\n",
      "10\n",
      "From louis@media.berkeley.edu Fri Jan  4 18:10:48 2008\n",
      "10\n",
      "From zqian@umich.edu Fri Jan  4 16:10:39 2008\n",
      "11\n",
      "From rjlowe@iupui.edu Fri Jan  4 15:46:24 2008\n",
      "10\n",
      "From zqian@umich.edu Fri Jan  4 15:03:18 2008\n",
      "11\n",
      "From rjlowe@iupui.edu Fri Jan  4 14:50:18 2008\n",
      "9\n",
      "From cwen@iupui.edu Fri Jan  4 11:37:30 2008\n",
      "9\n",
      "From cwen@iupui.edu Fri Jan  4 11:35:08 2008\n",
      "12\n",
      "From gsilver@umich.edu Fri Jan  4 11:12:37 2008\n",
      "12\n",
      "From gsilver@umich.edu Fri Jan  4 11:11:52 2008\n",
      "10\n",
      "From zqian@umich.edu Fri Jan  4 11:11:03 2008\n",
      "12\n",
      "From gsilver@umich.edu Fri Jan  4 11:10:22 2008\n",
      "13\n",
      "From wagnermr@iupui.edu Fri Jan  4 10:38:42 2008\n",
      "10\n",
      "From zqian@umich.edu Fri Jan  4 10:17:43 2008\n",
      "13\n",
      "From antranig@caret.cam.ac.uk Fri Jan  4 10:04:14 2008\n",
      "24\n",
      "From gopal.ramasammycook@gmail.com Fri Jan  4 09:05:31 2008\n",
      "18\n",
      "From david.horwitz@uct.ac.za Fri Jan  4 07:02:32 2008\n",
      "18\n",
      "From david.horwitz@uct.ac.za Fri Jan  4 06:08:27 2008\n",
      "18\n",
      "From david.horwitz@uct.ac.za Fri Jan  4 04:49:08 2008\n",
      "18\n",
      "From david.horwitz@uct.ac.za Fri Jan  4 04:33:44 2008\n",
      "21\n",
      "From stephen.marquard@uct.ac.za Fri Jan  4 04:07:34 2008\n",
      "10\n",
      "From louis@media.berkeley.edu Thu Jan  3 19:51:21 2008\n",
      "10\n",
      "From louis@media.berkeley.edu Thu Jan  3 17:18:23 2008\n",
      "8\n",
      "From ray@media.berkeley.edu Thu Jan  3 17:07:00 2008\n",
      "9\n",
      "From cwen@iupui.edu Thu Jan  3 16:34:40 2008\n",
      "9\n",
      "From cwen@iupui.edu Thu Jan  3 16:29:07 2008\n",
      "9\n",
      "From cwen@iupui.edu Thu Jan  3 16:23:48 2008\n"
     ]
    }
   ],
   "source": [
    "file = open(\"mbox-short.txt\")\n",
    "for l in file:\n",
    "    l.strip()\n",
    "    if l.startswith(\"From \"):\n",
    "        print(l.strip())"
   ]
  },
  {
   "cell_type": "code",
   "execution_count": 14,
   "metadata": {},
   "outputs": [
    {
     "name": "stdout",
     "output_type": "stream",
     "text": [
      "stephen.marquard@uct.ac.za\n",
      "louis@media.berkeley.edu\n",
      "zqian@umich.edu\n",
      "rjlowe@iupui.edu\n",
      "zqian@umich.edu\n",
      "rjlowe@iupui.edu\n",
      "cwen@iupui.edu\n",
      "cwen@iupui.edu\n",
      "gsilver@umich.edu\n",
      "gsilver@umich.edu\n",
      "zqian@umich.edu\n",
      "gsilver@umich.edu\n",
      "wagnermr@iupui.edu\n",
      "zqian@umich.edu\n",
      "antranig@caret.cam.ac.uk\n",
      "gopal.ramasammycook@gmail.com\n",
      "david.horwitz@uct.ac.za\n",
      "david.horwitz@uct.ac.za\n",
      "david.horwitz@uct.ac.za\n",
      "david.horwitz@uct.ac.za\n",
      "stephen.marquard@uct.ac.za\n",
      "louis@media.berkeley.edu\n",
      "louis@media.berkeley.edu\n",
      "ray@media.berkeley.edu\n",
      "cwen@iupui.edu\n",
      "cwen@iupui.edu\n",
      "cwen@iupui.edu\n"
     ]
    }
   ],
   "source": [
    "file = open(\"mbox-short.txt\")\n",
    "for l in file:\n",
    "    l.strip()\n",
    "    if l.startswith(\"From \"):\n",
    "        mylist = l.split()\n",
    "        print(mylist[1])"
   ]
  },
  {
   "cell_type": "code",
   "execution_count": null,
   "metadata": {
    "collapsed": true
   },
   "outputs": [],
   "source": []
  }
 ],
 "metadata": {
  "kernelspec": {
   "display_name": "Python 3",
   "language": "python",
   "name": "python3"
  },
  "language_info": {
   "codemirror_mode": {
    "name": "ipython",
    "version": 3
   },
   "file_extension": ".py",
   "mimetype": "text/x-python",
   "name": "python",
   "nbconvert_exporter": "python",
   "pygments_lexer": "ipython3",
   "version": "3.6.1"
  }
 },
 "nbformat": 4,
 "nbformat_minor": 2
}
