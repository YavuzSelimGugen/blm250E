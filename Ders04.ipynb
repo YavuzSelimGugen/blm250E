{
 "cells": [
  {
   "cell_type": "code",
   "execution_count": 8,
   "metadata": {},
   "outputs": [
    {
     "name": "stdout",
     "output_type": "stream",
     "text": [
      "[1, 3, 8, 4, 12, 6]\n",
      "[1, 3, 4, 6, 8, 12]\n",
      "1\n",
      "[(1, 'Ahmet'), (2, 'Mehmet'), (11, 'Hüseyin'), (15, 'Can'), (16, 'Cem')]\n"
     ]
    }
   ],
   "source": [
    "lista = [1,3,8,4,12,6]\n",
    "tuples = (1,2,3,4,5,6)\n",
    "\n",
    "print(lista)\n",
    "lista = sorted(lista)\n",
    "\n",
    "print(lista)\n",
    "print(tuples[0])\n",
    "l = list(tuples)\n",
    "\n",
    "dic = {\"Ahmet\":1, \"Mehmet\":2, \"Can\":15, \"Cem\":16, \"Hüseyin\":11}\n",
    "#for (s,v) in dic.items():\n",
    "#    print(s, v)\n",
    "#for s in dic.keys():\n",
    "#    print(s)\n",
    "#for s in dic.values():\n",
    "#    print(s)\n",
    "    \n",
    "#(5,6,2) < (5,1,2)\n",
    "lst = []\n",
    "for (x,y) in dic.items():\n",
    "    a = y,x\n",
    "    lst.append(a)\n",
    "\n",
    "lst = sorted(lst)    \n",
    "print(lst)    "
   ]
  },
  {
   "cell_type": "code",
   "execution_count": null,
   "metadata": {
    "collapsed": true
   },
   "outputs": [],
   "source": []
  },
  {
   "cell_type": "code",
   "execution_count": null,
   "metadata": {
    "collapsed": true
   },
   "outputs": [],
   "source": []
  }
 ],
 "metadata": {
  "kernelspec": {
   "display_name": "Python 3",
   "language": "python",
   "name": "python3"
  },
  "language_info": {
   "codemirror_mode": {
    "name": "ipython",
    "version": 3
   },
   "file_extension": ".py",
   "mimetype": "text/x-python",
   "name": "python",
   "nbconvert_exporter": "python",
   "pygments_lexer": "ipython3",
   "version": "3.6.1"
  }
 },
 "nbformat": 4,
 "nbformat_minor": 2
}
