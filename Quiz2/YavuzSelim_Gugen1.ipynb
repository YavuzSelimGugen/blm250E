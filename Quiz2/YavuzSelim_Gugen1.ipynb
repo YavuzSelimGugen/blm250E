{
 "cells": [
  {
   "cell_type": "code",
   "execution_count": 6,
   "metadata": {},
   "outputs": [
    {
     "name": "stdout",
     "output_type": "stream",
     "text": [
      "{'A': 3, 'B': 2, 'E': 2, 'F': 1, 'G': 1, 'I': 2, 'J': 1, 'K': 1, 'L': 1, 'M': 1, 'P': 1, 'S': 3, 'T': 2, 'W': 4, 'Y': 1}\n"
     ]
    }
   ],
   "source": [
    "file = open(\"romeo.txt\")\n",
    "my_list = []\n",
    "result_list = []\n",
    "for line in file:\n",
    "    my_list = (line.split())\n",
    "    for word in my_list:\n",
    "        if(word.upper() not in result_list):\n",
    "            result_list.append(word.upper())\n",
    "            \n",
    "result_list.sort()          \n",
    "\n",
    "count_dic = dict()\n",
    "for word in result_list:\n",
    "    if word[0] not in count_dic:\n",
    "        count_dic[word[0]] = 1\n",
    "    else:\n",
    "        count_dic[word[0]] += 1\n",
    "print(count_dic)        "
   ]
  },
  {
   "cell_type": "code",
   "execution_count": null,
   "metadata": {
    "collapsed": true
   },
   "outputs": [],
   "source": []
  }
 ],
 "metadata": {
  "kernelspec": {
   "display_name": "Python 3",
   "language": "python",
   "name": "python3"
  },
  "language_info": {
   "codemirror_mode": {
    "name": "ipython",
    "version": 3
   },
   "file_extension": ".py",
   "mimetype": "text/x-python",
   "name": "python",
   "nbconvert_exporter": "python",
   "pygments_lexer": "ipython3",
   "version": "3.6.1"
  }
 },
 "nbformat": 4,
 "nbformat_minor": 2
}
