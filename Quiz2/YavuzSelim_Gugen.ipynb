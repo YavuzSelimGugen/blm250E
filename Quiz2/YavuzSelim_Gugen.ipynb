{
 "cells": [
  {
   "cell_type": "code",
   "execution_count": 8,
   "metadata": {},
   "outputs": [
    {
     "name": "stdout",
     "output_type": "stream",
     "text": [
      "Is 50 power of 2 True\n",
      "Is 128 power of 2 True\n",
      "Is input 128 is a power of two?: True\n"
     ]
    }
   ],
   "source": [
    "#Soru 1\n",
    "a = 50\n",
    "b = 128\n",
    "boo1 = (a / 2)%2 == 0\n",
    "boo2 = (b / 2)%2 == 0\n",
    "print(\"Is 50 power of 2\",boo1)\n",
    "print(\"Is 128 power of 2\",boo2)\n",
    "\n",
    "sayi= 128 # try with different numbers\n",
    "ispoweroftwo= False\n",
    "if sayi%2 !=0: # if not even\n",
    "    ispoweroftwo= False\n",
    "else:\n",
    "    s= 1\n",
    "    while s<=sayi:\n",
    "        if s== sayi:\n",
    "            ispoweroftwo= True\n",
    "        s= s * 2\n",
    "print(\"Is input \"+ str(sayi)+ \" is a power of two?: \" +str(ispoweroftwo))\n"
   ]
  },
  {
   "cell_type": "code",
   "execution_count": 32,
   "metadata": {},
   "outputs": [
    {
     "name": "stdout",
     "output_type": "stream",
     "text": [
      "432\n",
      "3541\n"
     ]
    }
   ],
   "source": [
    "#Soru 2\n",
    "in1 = 234\n",
    "in2 = 1453\n",
    "str1 = \"\"\n",
    "\n",
    "str1 = str(in1)\n",
    "str1n =\"\"\n",
    "for l in str1:\n",
    "    str1n = l + str1n\n",
    "print(str1n)\n",
    "\n",
    "str2  = str(in2)\n",
    "str2n = \"\"\n",
    "for l in str2:\n",
    "    str2n = l + str2n\n",
    "print(str2n)    "
   ]
  },
  {
   "cell_type": "code",
   "execution_count": null,
   "metadata": {
    "collapsed": true
   },
   "outputs": [],
   "source": []
  }
 ],
 "metadata": {
  "kernelspec": {
   "display_name": "Python 3",
   "language": "python",
   "name": "python3"
  },
  "language_info": {
   "codemirror_mode": {
    "name": "ipython",
    "version": 3
   },
   "file_extension": ".py",
   "mimetype": "text/x-python",
   "name": "python",
   "nbconvert_exporter": "python",
   "pygments_lexer": "ipython3",
   "version": "3.6.1"
  }
 },
 "nbformat": 4,
 "nbformat_minor": 2
}
