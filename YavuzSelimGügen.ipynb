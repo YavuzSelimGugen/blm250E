{
 "cells": [
  {
   "cell_type": "code",
   "execution_count": null,
   "metadata": {
    "scrolled": true
   },
   "outputs": [],
   "source": [
    "largest = None\n",
    "smallest = None\n",
    "bool = True\n",
    "while bool: \n",
    "    try:\n",
    "        num = input(\"Enter a number: \")\n",
    "        if num == \"done\":\n",
    "            print(\"Done written, prog. stop\")\n",
    "            bool = False\n",
    "        else:\n",
    "            if largest is None:\n",
    "                largest = int(num)\n",
    "            if smallest is None:\n",
    "                smallest = int(num)\n",
    "            if int(num) > int(largest):\n",
    "                largest = num\n",
    "            elif int(num) < int(smallest):\n",
    "                smallest = num\n",
    "    except:\n",
    "        print(\"invalid\")\n",
    "        continue\n",
    "        \n",
    "    \n",
    "print(largest)\n",
    "print(smallest)"
   ]
  }
 ],
 "metadata": {
  "kernelspec": {
   "display_name": "Python 3",
   "language": "python",
   "name": "python3"
  },
  "language_info": {
   "codemirror_mode": {
    "name": "ipython",
    "version": 3
   },
   "file_extension": ".py",
   "mimetype": "text/x-python",
   "name": "python",
   "nbconvert_exporter": "python",
   "pygments_lexer": "ipython3",
   "version": "3.6.1"
  }
 },
 "nbformat": 4,
 "nbformat_minor": 2
}
